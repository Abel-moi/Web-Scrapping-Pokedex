{
 "cells": [
  {
   "cell_type": "code",
   "execution_count": null,
   "id": "783eecc0",
   "metadata": {},
   "outputs": [],
   "source": [
    "Projet Web scraping\n"
   ]
  },
  {
   "cell_type": "code",
   "execution_count": 3,
   "id": "5fe689ac",
   "metadata": {
    "scrolled": true
   },
   "outputs": [
    {
     "name": "stderr",
     "output_type": "stream",
     "text": [
      "/tmp/ipykernel_215900/2490266326.py:7: DeprecationWarning: executable_path has been deprecated, please pass in a Service object\n",
      "  driver = webdriver.Chrome('./chromedriver')\n"
     ]
    }
   ],
   "source": [
    "from selenium import webdriver\n",
    "from selenium.webdriver.common.by import By\n",
    "import time\n",
    "import json\n",
    "\n",
    "    \n",
    "driver = webdriver.Chrome('./chromedriver')\n"
   ]
  },
  {
   "cell_type": "code",
   "execution_count": 4,
   "id": "0ed42ba0",
   "metadata": {},
   "outputs": [],
   "source": [
    "def json_pokemon(nom, numero,taille, categorie, poids, talent, types, faiblesses, image):\n",
    "    pokemon = {\n",
    "        \"Nom\" : nom,\n",
    "        \"Numéro\" : numero,\n",
    "        \"Taille\" : taille,\n",
    "        \"Categorie\" : categorie,\n",
    "        \"Poids\": poids,\n",
    "        \"Talent\": talent,\n",
    "        \"Type\": types,\n",
    "        \"Faiblesse(s)\": faiblesses,\n",
    "        \"Image\": image\n",
    "    }\n",
    "    \n",
    "    \n",
    "    return pokemon\n"
   ]
  },
  {
   "cell_type": "code",
   "execution_count": 6,
   "id": "736a91f9",
   "metadata": {},
   "outputs": [],
   "source": [
    "def main(): \n",
    "    \n",
    "    pokedex = []\n",
    "    for index_pokemon in range(1,210):\n",
    "        driver.get(f\"https://www.pokemon.com/fr/pokedex/{index_pokemon}\")\n",
    "\n",
    "        nom_numero = driver.find_elements(By.CLASS_NAME, \"pokedex-pokemon-pagination-title\")[0].text\n",
    "\n",
    "        nom = nom_numero.split(\" \")[0]\n",
    "        numero = nom_numero.split(\".\")[1]\n",
    "        \n",
    "        try:        \n",
    "            taille = driver.find_elements(By.CLASS_NAME, \"attribute-value\")[0].text\n",
    "        except:  \n",
    "            raise Exception('Erreur de taille')\n",
    "        \n",
    "        try:\n",
    "            categorie = driver.find_elements(By.CLASS_NAME, \"attribute-value\")[1].text\n",
    "        except:  \n",
    "            raise Exception('Erreur de catégorie')\n",
    "\n",
    "        try:\n",
    "            poids = driver.find_elements(By.CLASS_NAME, \"attribute-value\")[3].text\n",
    "        except:  \n",
    "            raise Exception('Erreur de poids')\n",
    "        \n",
    "        try:\n",
    "            talent = driver.find_elements(By.CLASS_NAME, \"attribute-value\")[4].text\n",
    "        except:  \n",
    "            raise Exception('Erreur de talent')\n",
    "        \n",
    "        types_pokemon = []\n",
    "        \n",
    "        try:\n",
    "            types = driver.find_elements(By.CSS_SELECTOR, 'div[class=\"dtm-type\"]>ul>li')\n",
    "            \n",
    "            for index_type in range(0, len(types)):\n",
    "                if driver.find_elements(By.CSS_SELECTOR, 'div[class=\"dtm-type\"]>ul>li')[index_type].text != \"\":    \n",
    "                    types_pokemon.append(driver.find_elements(By.CSS_SELECTOR, 'div[class=\"dtm-type\"]>ul>li')[index_type].text)\n",
    "                \n",
    "        except:  \n",
    "            raise Exception('Erreur de types')\n",
    "\n",
    "        \n",
    "        faiblesses_pokemon = []\n",
    "        \n",
    "        try:\n",
    "            \n",
    "            faiblesses = driver.find_elements(By.CSS_SELECTOR, 'div[class=\"dtm-weaknesses\"]>ul>li')\n",
    "            for index_faiblesses in range(0, len(faiblesses)):\n",
    "                if driver.find_elements(By.CSS_SELECTOR, 'div[class=\"dtm-weaknesses\"]>ul>li')[index_faiblesses].text != \"\":\n",
    "                    faiblesses_pokemon.append(driver.find_elements(By.CSS_SELECTOR, 'div[class=\"dtm-weaknesses\"]>ul>li')[index_faiblesses].text)\n",
    "                    \n",
    "        except:  \n",
    "            raise Exception('Erreur de faiblesses')\n",
    "            \n",
    "        \n",
    "        try:        \n",
    "            image = driver.find_elements(By.CSS_SELECTOR, f'img[class=\"active\"]')[0].get_attribute(\"src\")\n",
    "        except:  \n",
    "            raise Exception(\"Erreur d'image\")\n",
    "\n",
    "        time.sleep(3)\n",
    "        \n",
    "        pokedex.append(json_pokemon(nom, numero,taille, categorie, poids, talent, types_pokemon, faiblesses_pokemon, image))\n",
    "        \n",
    "    with open('pokemons.json', 'w') as file:\n",
    "        json.dump(pokedex, file)\n",
    "        \n",
    "        \n",
    "        \n",
    "\n",
    "main()\n",
    "\n"
   ]
  },
  {
   "cell_type": "code",
   "execution_count": null,
   "id": "3ca0a16b",
   "metadata": {},
   "outputs": [],
   "source": []
  },
  {
   "cell_type": "code",
   "execution_count": null,
   "id": "b56f06bc",
   "metadata": {},
   "outputs": [],
   "source": []
  }
 ],
 "metadata": {
  "kernelspec": {
   "display_name": "Python 3 (ipykernel)",
   "language": "python",
   "name": "python3"
  },
  "language_info": {
   "codemirror_mode": {
    "name": "ipython",
    "version": 3
   },
   "file_extension": ".py",
   "mimetype": "text/x-python",
   "name": "python",
   "nbconvert_exporter": "python",
   "pygments_lexer": "ipython3",
   "version": "3.10.7"
  }
 },
 "nbformat": 4,
 "nbformat_minor": 5
}
