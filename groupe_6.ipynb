{
 "cells": [
  {
   "cell_type": "code",
   "execution_count": null,
   "id": "783eecc0",
   "metadata": {},
   "outputs": [],
   "source": [
    "Projet Web scraping\n"
   ]
  },
  {
   "cell_type": "code",
   "execution_count": 2,
   "id": "5fe689ac",
   "metadata": {
    "scrolled": true
   },
   "outputs": [
    {
     "name": "stderr",
     "output_type": "stream",
     "text": [
      "/tmp/ipykernel_200605/2490266326.py:7: DeprecationWarning: executable_path has been deprecated, please pass in a Service object\n",
      "  driver = webdriver.Chrome('./chromedriver')\n"
     ]
    }
   ],
   "source": [
    "from selenium import webdriver\n",
    "from selenium.webdriver.common.by import By\n",
    "import time\n",
    "import json\n",
    "\n",
    "    \n",
    "driver = webdriver.Chrome('./chromedriver')\n"
   ]
  },
  {
   "cell_type": "code",
   "execution_count": 3,
   "id": "0ed42ba0",
   "metadata": {},
   "outputs": [],
   "source": [
    "def json_pokemon(nom, numero,taille, categorie, poids, talent, types, faiblesses, image):\n",
    "    pokemon = {\n",
    "        \"Nom\" : nom,\n",
    "        \"Numéro\" : numero,\n",
    "        \"Taille\" : taille,\n",
    "        \"Categorie\" : categorie,\n",
    "        \"Poids\": poids,\n",
    "        \"Talent\": talent,\n",
    "        \"Type\": types,\n",
    "        \"Faiblesse(s)\": faiblesses,\n",
    "        \"Image\": image\n",
    "    }\n",
    "    \n",
    "    \n",
    "    return pokemon\n"
   ]
  },
  {
   "cell_type": "code",
   "execution_count": 4,
   "id": "736a91f9",
   "metadata": {},
   "outputs": [
    {
     "ename": "Exception",
     "evalue": "Erreur d'image",
     "output_type": "error",
     "traceback": [
      "\u001b[0;31m---------------------------------------------------------------------------\u001b[0m",
      "\u001b[0;31mIndexError\u001b[0m                                Traceback (most recent call last)",
      "Cell \u001b[0;32mIn [4], line 59\u001b[0m, in \u001b[0;36mmain\u001b[0;34m()\u001b[0m\n\u001b[1;32m     58\u001b[0m \u001b[38;5;28;01mtry\u001b[39;00m:        \n\u001b[0;32m---> 59\u001b[0m     image \u001b[38;5;241m=\u001b[39m \u001b[43mdriver\u001b[49m\u001b[38;5;241;43m.\u001b[39;49m\u001b[43mfind_elements\u001b[49m\u001b[43m(\u001b[49m\u001b[43mBy\u001b[49m\u001b[38;5;241;43m.\u001b[39;49m\u001b[43mCSS_SELECTOR\u001b[49m\u001b[43m,\u001b[49m\u001b[43m \u001b[49m\u001b[38;5;124;43mf\u001b[39;49m\u001b[38;5;124;43m'\u001b[39;49m\u001b[38;5;124;43mimg[alt=\u001b[39;49m\u001b[38;5;124;43m\"\u001b[39;49m\u001b[38;5;132;43;01m{\u001b[39;49;00m\u001b[43mnom\u001b[49m\u001b[38;5;132;43;01m}\u001b[39;49;00m\u001b[38;5;124;43m\"\u001b[39;49m\u001b[38;5;124;43m]\u001b[39;49m\u001b[38;5;124;43m'\u001b[39;49m\u001b[43m)\u001b[49m\u001b[43m[\u001b[49m\u001b[38;5;241;43m0\u001b[39;49m\u001b[43m]\u001b[49m\u001b[38;5;241m.\u001b[39mget_attribute(\u001b[38;5;124m\"\u001b[39m\u001b[38;5;124msrc\u001b[39m\u001b[38;5;124m\"\u001b[39m)\n\u001b[1;32m     60\u001b[0m \u001b[38;5;28;01mexcept\u001b[39;00m:  \n",
      "\u001b[0;31mIndexError\u001b[0m: list index out of range",
      "\nDuring handling of the above exception, another exception occurred:\n",
      "\u001b[0;31mException\u001b[0m                                 Traceback (most recent call last)",
      "Cell \u001b[0;32mIn [4], line 73\u001b[0m\n\u001b[1;32m     67\u001b[0m     \u001b[38;5;28;01mwith\u001b[39;00m \u001b[38;5;28mopen\u001b[39m(\u001b[38;5;124m'\u001b[39m\u001b[38;5;124mpokemons.json\u001b[39m\u001b[38;5;124m'\u001b[39m, \u001b[38;5;124m'\u001b[39m\u001b[38;5;124mw\u001b[39m\u001b[38;5;124m'\u001b[39m) \u001b[38;5;28;01mas\u001b[39;00m file:\n\u001b[1;32m     68\u001b[0m         json\u001b[38;5;241m.\u001b[39mdump(pokedex, file)\n\u001b[0;32m---> 73\u001b[0m \u001b[43mmain\u001b[49m\u001b[43m(\u001b[49m\u001b[43m)\u001b[49m\n",
      "Cell \u001b[0;32mIn [4], line 61\u001b[0m, in \u001b[0;36mmain\u001b[0;34m()\u001b[0m\n\u001b[1;32m     59\u001b[0m     image \u001b[38;5;241m=\u001b[39m driver\u001b[38;5;241m.\u001b[39mfind_elements(By\u001b[38;5;241m.\u001b[39mCSS_SELECTOR, \u001b[38;5;124mf\u001b[39m\u001b[38;5;124m'\u001b[39m\u001b[38;5;124mimg[alt=\u001b[39m\u001b[38;5;124m\"\u001b[39m\u001b[38;5;132;01m{\u001b[39;00mnom\u001b[38;5;132;01m}\u001b[39;00m\u001b[38;5;124m\"\u001b[39m\u001b[38;5;124m]\u001b[39m\u001b[38;5;124m'\u001b[39m)[\u001b[38;5;241m0\u001b[39m]\u001b[38;5;241m.\u001b[39mget_attribute(\u001b[38;5;124m\"\u001b[39m\u001b[38;5;124msrc\u001b[39m\u001b[38;5;124m\"\u001b[39m)\n\u001b[1;32m     60\u001b[0m \u001b[38;5;28;01mexcept\u001b[39;00m:  \n\u001b[0;32m---> 61\u001b[0m     \u001b[38;5;28;01mraise\u001b[39;00m \u001b[38;5;167;01mException\u001b[39;00m(\u001b[38;5;124m\"\u001b[39m\u001b[38;5;124mErreur d\u001b[39m\u001b[38;5;124m'\u001b[39m\u001b[38;5;124mimage\u001b[39m\u001b[38;5;124m\"\u001b[39m)\n\u001b[1;32m     63\u001b[0m time\u001b[38;5;241m.\u001b[39msleep(\u001b[38;5;241m3\u001b[39m)\n\u001b[1;32m     65\u001b[0m pokedex\u001b[38;5;241m.\u001b[39mappend(json_pokemon(nom, numero,taille, categorie, poids, talent, types_pokemon, faiblesses_pokemon, image))\n",
      "\u001b[0;31mException\u001b[0m: Erreur d'image"
     ]
    }
   ],
   "source": [
    "def main(): \n",
    "    \n",
    "    pokedex = []\n",
    "    for index_pokemon in range(1,210):\n",
    "        driver.get(f\"https://www.pokemon.com/fr/pokedex/{index_pokemon}\")\n",
    "\n",
    "        nom_numero = driver.find_elements(By.CLASS_NAME, \"pokedex-pokemon-pagination-title\")[0].text\n",
    "\n",
    "        nom = nom_numero.split(\" \")[0]\n",
    "        numero = nom_numero.split(\".\")[1]\n",
    "        \n",
    "        try:        \n",
    "            taille = driver.find_elements(By.CLASS_NAME, \"attribute-value\")[0].text\n",
    "        except:  \n",
    "            raise Exception('Erreur de taille')\n",
    "        \n",
    "        try:\n",
    "            categorie = driver.find_elements(By.CLASS_NAME, \"attribute-value\")[1].text\n",
    "        except:  \n",
    "            raise Exception('Erreur de catégorie')\n",
    "\n",
    "        try:\n",
    "            poids = driver.find_elements(By.CLASS_NAME, \"attribute-value\")[3].text\n",
    "        except:  \n",
    "            raise Exception('Erreur de poids')\n",
    "        \n",
    "        try:\n",
    "            talent = driver.find_elements(By.CLASS_NAME, \"attribute-value\")[4].text\n",
    "        except:  \n",
    "            raise Exception('Erreur de talent')\n",
    "        \n",
    "        types_pokemon = []\n",
    "        \n",
    "        try:\n",
    "            types = driver.find_elements(By.CSS_SELECTOR, 'div[class=\"dtm-type\"]>ul>li')\n",
    "            \n",
    "            for index_type in range(0, len(types)):\n",
    "                if driver.find_elements(By.CSS_SELECTOR, 'div[class=\"dtm-type\"]>ul>li')[index_type].text != \"\":    \n",
    "                    types_pokemon.append(driver.find_elements(By.CSS_SELECTOR, 'div[class=\"dtm-type\"]>ul>li')[index_type].text)\n",
    "                \n",
    "        except:  \n",
    "            raise Exception('Erreur de types')\n",
    "\n",
    "        \n",
    "        faiblesses_pokemon = []\n",
    "        \n",
    "        try:\n",
    "            \n",
    "            faiblesses = driver.find_elements(By.CSS_SELECTOR, 'div[class=\"dtm-weaknesses\"]>ul>li')\n",
    "            for index_faiblesses in range(0, len(faiblesses)):\n",
    "                if driver.find_elements(By.CSS_SELECTOR, 'div[class=\"dtm-weaknesses\"]>ul>li')[index_faiblesses].text != \"\":\n",
    "                    faiblesses_pokemon.append(driver.find_elements(By.CSS_SELECTOR, 'div[class=\"dtm-weaknesses\"]>ul>li')[index_faiblesses].text)\n",
    "                    \n",
    "        except:  \n",
    "            raise Exception('Erreur de faiblesses')\n",
    "            \n",
    "        \n",
    "        try:        \n",
    "            image = driver.find_elements(By.CSS_SELECTOR, f'img[class=\"active\"]')[0].get_attribute(\"src\")\n",
    "        except:  \n",
    "            raise Exception(\"Erreur d'image\")\n",
    "\n",
    "        time.sleep(3)\n",
    "        \n",
    "        pokedex.append(json_pokemon(nom, numero,taille, categorie, poids, talent, types_pokemon, faiblesses_pokemon, image))\n",
    "        \n",
    "    with open('pokemons.json', 'w') as file:\n",
    "        json.dump(pokedex, file)\n",
    "        \n",
    "        \n",
    "        \n",
    "\n",
    "main()\n",
    "\n"
   ]
  },
  {
   "cell_type": "code",
   "execution_count": null,
   "id": "3ca0a16b",
   "metadata": {},
   "outputs": [],
   "source": []
  },
  {
   "cell_type": "code",
   "execution_count": null,
   "id": "b56f06bc",
   "metadata": {},
   "outputs": [],
   "source": []
  }
 ],
 "metadata": {
  "kernelspec": {
   "display_name": "Python 3 (ipykernel)",
   "language": "python",
   "name": "python3"
  },
  "language_info": {
   "codemirror_mode": {
    "name": "ipython",
    "version": 3
   },
   "file_extension": ".py",
   "mimetype": "text/x-python",
   "name": "python",
   "nbconvert_exporter": "python",
   "pygments_lexer": "ipython3",
   "version": "3.10.7"
  }
 },
 "nbformat": 4,
 "nbformat_minor": 5
}
